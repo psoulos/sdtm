{
 "cells": [
  {
   "cell_type": "code",
   "execution_count": 1,
   "metadata": {},
   "outputs": [
    {
     "name": "stderr",
     "output_type": "stream",
     "text": [
      "/Users/psoulos/opt/anaconda3/envs/blackboard/lib/python3.8/site-packages/tqdm/auto.py:22: TqdmWarning: IProgress not found. Please update jupyter and ipywidgets. See https://ipywidgets.readthedocs.io/en/stable/user_install.html\n",
      "  from .autonotebook import tqdm as notebook_tqdm\n"
     ]
    }
   ],
   "source": [
    "import torch\n",
    "import torch.nn as nn\n",
    "import torch.nn.functional as F\n",
    "from torch.utils.data.dataloader import DataLoader\n",
    "from itertools import chain\n",
    "\n",
    "\n",
    "\n",
    "import sys\n",
    "import os\n",
    "current = os.path.dirname(os.path.realpath('.'))\n",
    "sys.path.append(current)\n",
    "from TPR_utils import TPR, build_D, DecodedTPR2Tree\n",
    "\n",
    "from models import *\n",
    "from data import BinaryT2TDataset"
   ]
  },
  {
   "cell_type": "code",
   "execution_count": 2,
   "metadata": {},
   "outputs": [],
   "source": [
    "bsz = 1\n",
    "max_depth = 8\n",
    "d_filler = 32\n",
    "d_role = 2**max_depth\n",
    "from data import BinaryT2TDataset\n",
    "data_file = '/Users/psoulos/.data/nc_pat/v16/car_cdr_seq/train.xy'\n",
    "train_data = BinaryT2TDataset(data_file, max_depth=max_depth, device='cpu', filter=None)"
   ]
  },
  {
   "cell_type": "code",
   "execution_count": 3,
   "metadata": {},
   "outputs": [],
   "source": [
    "class Object(object):\n",
    "    pass\n",
    "\n",
    "args = Object()\n",
    "args.learn_filler_embed = False\n",
    "args.proj_filler_to_unit_ball = False\n",
    "tpr = TPR(args=args, num_fillers=len(train_data.ind2vocab), num_roles=2**max_depth-1, d_filler=d_filler, d_role=d_role)\n",
    "D_l, D_r = build_D(tpr.role_emb)\n",
    "#E_l, E_r = build_E(tpr.role_emb)"
   ]
  },
  {
   "cell_type": "code",
   "execution_count": 4,
   "metadata": {},
   "outputs": [],
   "source": [
    "car = lambda x: torch.einsum('bmn,cn->bmc', x.view(bsz, d_filler, d_role), D_l).reshape(bsz, -1)\n",
    "cdr = lambda x: torch.einsum('bmn,cn->bmc', x.view(bsz, d_filler, d_role), D_r).reshape(bsz, -1)\n"
   ]
  },
  {
   "cell_type": "code",
   "execution_count": null,
   "metadata": {},
   "outputs": [],
   "source": []
  },
  {
   "cell_type": "code",
   "execution_count": 5,
   "metadata": {
    "scrolled": false
   },
   "outputs": [
    {
     "name": "stdout",
     "output_type": "stream",
     "text": [
      "Norm 2.595029830932617: \n",
      "tensor(22)\n",
      "Norm 3.0961191654205322: \n",
      "tensor(22)\n",
      "Norm 2.7655043601989746: \n",
      "tensor(22)\n",
      "Norm 2.778975486755371: \n",
      "tensor(22)\n",
      "Norm 3.0982179641723633: \n",
      "tensor(22)\n",
      "Norm 2.9246740341186523: \n",
      "tensor(22)\n",
      "Norm 2.7730295658111572: \n",
      "tensor(22)\n",
      "Norm 2.628295421600342: \n",
      "tensor(22)\n",
      "Norm 2.927591323852539: \n",
      "tensor(22)\n",
      "Norm 2.5584871768951416: \n",
      "tensor(22)\n"
     ]
    }
   ],
   "source": [
    "list_data = list(train_data)\n",
    "for item in list_data[0:10]:\n",
    "    t = tpr(item['input'].unsqueeze(0))\n",
    "    t = t.reshape(bsz,-1)\n",
    "    #print('Mean {}: '.format(torch.mean(t)))\n",
    "    #print('Var {}: '.format(torch.var(t)))\n",
    "    print('Norm {}: '.format(torch.norm(t)))\n",
    "    num_nodes = torch.sum(list_data[0]['input'] > 0)\n",
    "    print(num_nodes)\n",
    "    \n",
    "    \n",
    "    "
   ]
  },
  {
   "cell_type": "code",
   "execution_count": 21,
   "metadata": {},
   "outputs": [
    {
     "data": {
      "text/plain": [
       "tensor(31)"
      ]
     },
     "execution_count": 21,
     "metadata": {},
     "output_type": "execute_result"
    }
   ],
   "source": [
    "torch.sum(list_data[0]['input'] > 0)"
   ]
  },
  {
   "cell_type": "code",
   "execution_count": 117,
   "metadata": {
    "scrolled": false
   },
   "outputs": [
    {
     "name": "stdout",
     "output_type": "stream",
     "text": [
      "( CDDR ( NP ( DET some ) ( AP ( N teacher ) ) ) ( VP ( AUXPS was ) ( VPPS ( V discovered ) ( PPPS ( PPS by ) ( NP ( DET one ) ( AP ( N firewoman ) ) ) ) ) ) )\n",
      "# nodes: 22\n",
      "Norm 0.5532618165016174: \n",
      "Mean -0.0003723034169524908: \n",
      "Var 0.0008220046875067055: \n",
      "( NP ( DET some ) ( AP ( N teacher ) ) )\n",
      "# nodes: 6\n",
      "Norm 0.5216130018234253: \n",
      "Mean 2.0527826563920826e-05: \n",
      "Var 0.00019930145936086774: \n",
      "( DET some )\n",
      "# nodes: 2\n",
      "Norm 0.4595080018043518: \n",
      "Mean -5.1609062211355194e-05: \n",
      "Var 5.1553397497627884e-05: \n",
      "( some )\n",
      "# nodes: 1\n",
      "Norm 0.4504547119140625: \n",
      "Mean 9.38193807087373e-07: \n",
      "Var 2.4772276447038166e-05: \n",
      "( CDDAAR ( NP ( DET some ) ( AP ( ADJ stripped ) ( AP ( ADJ polka-dotted ) ( AP ( ADJ pink ) ( AP ( N cat ) ) ) ) ) ) ( VP ( AUXPS was ) ( VPPS ( V chased ) ( PPPS ( PPS by ) ( NP ( DET some ) ( AP ( N policeman ) ) ) ) ) ) )\n",
      "# nodes: 31\n",
      "Norm 0.5560795664787292: \n",
      "Mean -0.00014615655527450144: \n",
      "Var 0.0011702817864716053: \n",
      "( NP ( DET some ) ( AP ( ADJ stripped ) ( AP ( ADJ polka-dotted ) ( AP ( ADJ pink ) ( AP ( N cat ) ) ) ) ) )\n",
      "# nodes: 15\n",
      "Norm 0.552148163318634: \n",
      "Mean 7.763574103591964e-06: \n",
      "Var 0.0005582975572906435: \n",
      "( DET some )\n",
      "# nodes: 2\n",
      "Norm 0.4595080614089966: \n",
      "Mean -5.160908040124923e-05: \n",
      "Var 5.155339385964908e-05: \n",
      "( some )\n",
      "# nodes: 1\n",
      "Norm 0.4504547119140625: \n",
      "Mean 9.38145603868179e-07: \n",
      "Var 2.4772276447038166e-05: \n",
      "( CADAR ( NP ( DET our ) ( AP ( ADJ brown ) ( AP ( N cat ) ) ) ) ( VP ( AUXPS was ) ( VPPS ( V sold ) ( PPPS ( PPS by ) ( NP ( DET your ) ( AP ( N car ) ) ) ) ) ) )\n",
      "# nodes: 25\n",
      "Norm 0.5531002879142761: \n",
      "Mean -0.00037314524524845183: \n",
      "Var 0.0009335707291029394: \n",
      "( NP ( DET our ) ( AP ( ADJ brown ) ( AP ( N cat ) ) ) )\n",
      "# nodes: 9\n",
      "Norm 0.5452145934104919: \n",
      "Mean 0.00014005468983668834: \n",
      "Var 0.00032659826683811843: \n",
      "( DET our )\n",
      "# nodes: 2\n",
      "Norm 0.4665299654006958: \n",
      "Mean 7.476593600586057e-05: \n",
      "Var 5.313820292940363e-05: \n",
      "( our )\n",
      "# nodes: 1\n",
      "Norm 0.4646654725074768: \n",
      "Mean -1.42105454870034e-06: \n",
      "Var 2.636000863276422e-05: \n",
      "( CDAR ( NP ( DET some ) ( AP ( ADJ red ) ( AP ( N dog ) ) ) ) ( VP ( AUXPS was ) ( VPPS ( V convinced ) ( PPPS ( PPS by ) ( NP ( DET one ) ( AP ( N firewoman ) ) ) ) ) ) )\n",
      "# nodes: 25\n",
      "Norm 0.5557953715324402: \n",
      "Mean -0.000428149476647377: \n",
      "Var 0.0009426457108929753: \n",
      "( NP ( DET some ) ( AP ( ADJ red ) ( AP ( N dog ) ) ) )\n",
      "# nodes: 9\n",
      "Norm 0.5339483022689819: \n",
      "Mean 0.00012354477075859904: \n",
      "Var 0.00031324432347901165: \n",
      "( DET some )\n",
      "# nodes: 2\n",
      "Norm 0.4595080316066742: \n",
      "Mean -5.160913860891014e-05: \n",
      "Var 5.155339385964908e-05: \n",
      "( some )\n",
      "# nodes: 1\n",
      "Norm 0.4504546523094177: \n",
      "Mean 9.381874406244606e-07: \n",
      "Var 2.4772276447038166e-05: \n",
      "( CAAAR ( NP ( DET some ) ( AP ( ADJ orange ) ( AP ( ADJ sad ) ( AP ( ADJ sharp ) ( AP ( N house ) ) ) ) ) ) ( VP ( AUXPS was ) ( VPPS ( V discovered ) ( PPPS ( PPS by ) ( NP ( DET one ) ( AP ( N clerk ) ) ) ) ) ) )\n",
      "# nodes: 31\n",
      "Norm 0.556456983089447: \n",
      "Mean 2.3293498088605702e-05: \n",
      "Var 0.0011718907626345754: \n",
      "( NP ( DET some ) ( AP ( ADJ orange ) ( AP ( ADJ sad ) ( AP ( ADJ sharp ) ( AP ( N house ) ) ) ) ) )\n",
      "# nodes: 15\n",
      "Norm 0.5550218820571899: \n",
      "Mean -0.00010701149585656822: \n",
      "Var 0.0005641116877086461: \n",
      "( DET some )\n",
      "# nodes: 2\n",
      "Norm 0.4595080316066742: \n",
      "Mean -5.1609211368486285e-05: \n",
      "Var 5.155339385964908e-05: \n",
      "( some )\n",
      "# nodes: 1\n",
      "Norm 0.4504547119140625: \n",
      "Mean 9.382183634443209e-07: \n",
      "Var 2.477227280905936e-05: \n",
      "( CADAAR ( NP ( DET her ) ( AP ( ADJ rough ) ( AP ( ADJ cool ) ( AP ( N car ) ) ) ) ) ( VP ( AUXPS was ) ( VPPS ( V rinsed ) ( PPPS ( PPS by ) ( NP ( DET my ) ( AP ( N soldier ) ) ) ) ) ) )\n",
      "# nodes: 28\n",
      "Norm 0.5527112483978271: \n",
      "Mean -0.00016238367243204266: \n",
      "Var 0.0010442547500133514: \n",
      "( NP ( DET her ) ( AP ( ADJ rough ) ( AP ( ADJ cool ) ( AP ( N car ) ) ) ) )\n",
      "# nodes: 12\n",
      "Norm 0.5426551103591919: \n",
      "Mean 0.0004234833177179098: \n",
      "Var 0.0004312338714953512: \n",
      "( DET her )\n",
      "# nodes: 2\n",
      "Norm 0.4899788796901703: \n",
      "Mean 0.00021045160247012973: \n",
      "Var 5.857608266524039e-05: \n",
      "( her )\n",
      "# nodes: 1\n",
      "Norm 0.5106596350669861: \n",
      "Mean -3.95401002606377e-06: \n",
      "Var 3.183658191119321e-05: \n",
      "( CDDR ( NP ( DET my ) ( AP ( ADJ fat ) ( AP ( N priest ) ) ) ) ( VP ( AUXPS was ) ( VPPS ( V washed ) ( PPPS ( PPS by ) ( NP ( DET our ) ( AP ( N firewoman ) ) ) ) ) ) )\n",
      "# nodes: 25\n",
      "Norm 0.5546067953109741: \n",
      "Mean -0.0003923532785847783: \n",
      "Var 0.000938646262511611: \n",
      "( NP ( DET my ) ( AP ( ADJ fat ) ( AP ( N priest ) ) ) )\n",
      "# nodes: 9\n",
      "Norm 0.530407190322876: \n",
      "Mean 0.00011473785707494244: \n",
      "Var 0.00030910532223060727: \n",
      "( DET my )\n",
      "# nodes: 2\n",
      "Norm 0.5098450779914856: \n",
      "Mean 0.00016956328181549907: \n",
      "Var 6.344153371173888e-05: \n",
      "( my )\n",
      "# nodes: 1\n",
      "Norm 0.5481774210929871: \n",
      "Mean -3.1906711228657514e-06: \n",
      "Var 3.668649515020661e-05: \n",
      "( CAR ( NP ( DET the ) ( AP ( N firewoman ) ) ) ( VP ( AUXPS was ) ( VPPS ( V chased ) ( PPPS ( PPS by ) ( NP ( DET her ) ( AP ( N firewoman ) ) ) ) ) ) )\n",
      "# nodes: 22\n",
      "Norm 0.5603547096252441: \n",
      "Mean -0.00030863715801388025: \n",
      "Var 0.0008432628237642348: \n",
      "( NP ( DET the ) ( AP ( N firewoman ) ) )\n",
      "# nodes: 6\n",
      "Norm 0.5468747019767761: \n",
      "Mean 3.9730017306283116e-05: \n",
      "Var 0.00021907224436290562: \n",
      "( DET the )\n",
      "# nodes: 2\n",
      "Norm 0.5167014002799988: \n",
      "Mean 2.574230165919289e-06: \n",
      "Var 6.518879672512412e-05: \n",
      "( the )\n",
      "# nodes: 1\n",
      "Norm 0.560870349407196: \n",
      "Mean -7.321921202674275e-08: \n",
      "Var 3.840503268293105e-05: \n",
      "( CDR ( NP ( DET some ) ( AP ( ADJ sad ) ( AP ( ADJ large ) ( AP ( N policeman ) ) ) ) ) ( VP ( AUXPS was ) ( VPPS ( V smashed ) ( PPPS ( PPS by ) ( NP ( DET a ) ( AP ( N priest ) ) ) ) ) ) )\n",
      "# nodes: 28\n",
      "Norm 0.5532627701759338: \n",
      "Mean -0.00017869073781184852: \n",
      "Var 0.0010463353246450424: \n",
      "( NP ( DET some ) ( AP ( ADJ sad ) ( AP ( ADJ large ) ( AP ( N policeman ) ) ) ) )\n",
      "# nodes: 12\n",
      "Norm 0.5505453944206238: \n",
      "Mean 0.00041576079092919827: \n",
      "Var 0.0004438761970959604: \n",
      "( DET some )\n",
      "# nodes: 2\n",
      "Norm 0.4595080018043518: \n",
      "Mean -5.160907676327042e-05: \n",
      "Var 5.1553397497627884e-05: \n",
      "( some )\n",
      "# nodes: 1\n",
      "Norm 0.4504546523094177: \n",
      "Mean 9.381965355714783e-07: \n",
      "Var 2.477227826602757e-05: \n",
      "( CAR ( NP ( DET our ) ( AP ( N firewoman ) ) ) ( VP ( AUXPS was ) ( VPPS ( V kissed ) ( PPPS ( PPS by ) ( NP ( DET her ) ( AP ( N priest ) ) ) ) ) ) )\n",
      "# nodes: 22\n",
      "Norm 0.5454713106155396: \n",
      "Mean -0.0001341570750810206: \n",
      "Var 0.0007991349557414651: \n",
      "( NP ( DET our ) ( AP ( N firewoman ) ) )\n",
      "# nodes: 6\n",
      "Norm 0.5316283702850342: \n",
      "Mean 3.362320421729237e-05: \n",
      "Var 0.0002070276823360473: \n",
      "( DET our )\n",
      "# nodes: 2\n",
      "Norm 0.4665299654006958: \n",
      "Mean 7.476597966160625e-05: \n",
      "Var 5.3138199291424826e-05: \n",
      "( our )\n",
      "# nodes: 1\n",
      "Norm 0.4646655321121216: \n",
      "Mean -1.4210054359864444e-06: \n",
      "Var 2.6360006813774817e-05: \n"
     ]
    }
   ],
   "source": [
    "for i in range(10):\n",
    "    original_t = tpr(list_data[i]['input'].unsqueeze(0))\n",
    "    current_t = original_t\n",
    "    for j in range(4):\n",
    "        fully_decoded = DecodedTPR2Tree(tpr.unbind(current_t.view(d_filler, d_role).unsqueeze(0), decode=True))\n",
    "        num_nodes = torch.sum(fully_decoded > 0)\n",
    "        print(BatchSymbols2NodeTree(fully_decoded, train_data.ind2vocab)[0])\n",
    "        print('# nodes: {}'.format(num_nodes))\n",
    "        print('Norm {}: '.format(torch.norm(current_t/torch.sqrt(num_nodes))))\n",
    "        print('Mean {}: '.format(torch.mean(current_t)))\n",
    "        print('Var {}: '.format(torch.var(current_t)))\n",
    "\n",
    "        current_t = car(current_t)"
   ]
  },
  {
   "cell_type": "code",
   "execution_count": 24,
   "metadata": {},
   "outputs": [],
   "source": [
    "fully_decoded = DecodedTPR2Tree(tpr.unbind(t.view(d_filler, d_role).unsqueeze(0), decode=True))\n",
    "debug_tree = BatchSymbols2NodeTree(fully_decoded, train_data.ind2vocab)[0]"
   ]
  },
  {
   "cell_type": "code",
   "execution_count": 25,
   "metadata": {},
   "outputs": [
    {
     "data": {
      "text/plain": [
       "( CDDR ( NP ( DET some ) ( AP ( N teacher ) ) ) ( VP ( AUXPS was ) ( VPPS ( V discovered ) ( PPPS ( PPS by ) ( NP ( DET one ) ( AP ( N firewoman ) ) ) ) ) ) )"
      ]
     },
     "execution_count": 25,
     "metadata": {},
     "output_type": "execute_result"
    }
   ],
   "source": [
    "debug_tree"
   ]
  },
  {
   "cell_type": "code",
   "execution_count": 30,
   "metadata": {},
   "outputs": [
    {
     "data": {
      "text/plain": [
       "tensor([[-1.9379e-09, -2.1949e-09, -2.1193e-09,  ...,  3.4313e-09,\n",
       "          1.7069e-09, -2.9311e-09]])"
      ]
     },
     "execution_count": 30,
     "metadata": {},
     "output_type": "execute_result"
    }
   ],
   "source": [
    "current_t"
   ]
  },
  {
   "cell_type": "code",
   "execution_count": null,
   "metadata": {},
   "outputs": [],
   "source": []
  },
  {
   "cell_type": "code",
   "execution_count": 39,
   "metadata": {},
   "outputs": [
    {
     "data": {
      "text/plain": [
       "torch.Size([106, 32])"
      ]
     },
     "execution_count": 39,
     "metadata": {},
     "output_type": "execute_result"
    }
   ],
   "source": [
    "tpr.filler_emb.weight.shape"
   ]
  },
  {
   "cell_type": "code",
   "execution_count": 78,
   "metadata": {
    "scrolled": false
   },
   "outputs": [
    {
     "name": "stdout",
     "output_type": "stream",
     "text": [
      "3x4\n",
      "Mean: -0.2687870264053345\n",
      "Var: 0.19391290843486786\n",
      "7x8\n",
      "Mean: -0.020638197660446167\n",
      "Var: 0.1268390417098999\n",
      "15x16\n",
      "Mean: 0.013358664698898792\n",
      "Var: 0.06258230656385422\n",
      "31x32\n",
      "Mean: 0.003235600655898452\n",
      "Var: 0.03127105534076691\n",
      "63x64\n",
      "Mean: -0.0019095927709713578\n",
      "Var: 0.015625229105353355\n",
      "127x128\n",
      "Mean: 0.00023950466129463166\n",
      "Var: 0.007812922820448875\n",
      "255x256\n",
      "Mean: -0.0004153121553827077\n",
      "Var: 0.003906137542799115\n",
      "511x512\n",
      "Mean: -0.00011536553938640282\n",
      "Var: 0.0019531191792339087\n",
      "1023x1024\n",
      "Mean: -1.3369688531383872e-05\n",
      "Var: 0.0009765633149072528\n",
      "2047x2048\n",
      "Mean: -4.994465143681737e-06\n",
      "Var: 0.0004882813664153218\n"
     ]
    }
   ],
   "source": [
    "dim = 2\n",
    "for i in range(10):\n",
    "    dim *= 2\n",
    "    tensor = torch.empty((dim-1, dim))\n",
    "    nn.init.orthogonal_(tensor, gain=1)\n",
    "    print('{}x{}'.format(dim-1,dim))\n",
    "    print('Mean: {}'.format(tensor.mean()))\n",
    "    print('Var: {}'.format(tensor.var()))\n",
    "    #print('Norm: {}'.format(tensor.norm(2,-1)))\n",
    "    "
   ]
  },
  {
   "cell_type": "code",
   "execution_count": null,
   "metadata": {},
   "outputs": [],
   "source": []
  },
  {
   "cell_type": "code",
   "execution_count": null,
   "metadata": {},
   "outputs": [],
   "source": []
  }
 ],
 "metadata": {
  "kernelspec": {
   "display_name": "blackboard",
   "language": "python",
   "name": "blackboard"
  },
  "language_info": {
   "codemirror_mode": {
    "name": "ipython",
    "version": 3
   },
   "file_extension": ".py",
   "mimetype": "text/x-python",
   "name": "python",
   "nbconvert_exporter": "python",
   "pygments_lexer": "ipython3",
   "version": "3.8.0"
  }
 },
 "nbformat": 4,
 "nbformat_minor": 4
}
