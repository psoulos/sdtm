{
 "cells": [
  {
   "cell_type": "code",
   "execution_count": null,
   "id": "1fcab17c",
   "metadata": {},
   "outputs": [],
   "source": [
    "import numpy as np\n",
    "import matplotlib.pyplot as plt\n",
    "from scipy.stats import expon, norm\n",
    "\n",
    "# Set the parameters for the distributions\n",
    "exp_scale = .2\n",
    "norm_mean = 0.5\n",
    "norm_std = .2\n",
    "discrete_loc = 1\n",
    "\n",
    "# Generate x-values for plotting\n",
    "x = np.linspace(0, 1, 1000)\n",
    "\n",
    "# Calculate the PDF for each distribution\n",
    "exp_pdf = expon.pdf(x, scale=exp_scale)\n",
    "norm_pdf = norm.pdf(x, loc=norm_mean, scale=norm_std)\n",
    "discrete_pdf = np.zeros_like(x)\n",
    "discrete_pdf[np.abs(x - discrete_loc) < 0.05] = 8.0\n",
    "\n",
    "# Create a new figure and axis\n",
    "fig, ax = plt.subplots(figsize=(8, 6))\n",
    "\n",
    "# Plot the distributions using fill_between\n",
    "ax.fill_between(x, exp_pdf, alpha=0.7, color='#FF6B6B', label='Continuous')\n",
    "ax.fill_between(x, norm_pdf, alpha=0.7, color='#4ECDC4', label='Blended')\n",
    "ax.fill_between(x, discrete_pdf, alpha=0.7, color='#FFE66D', label='Discrete')\n",
    "\n",
    "# Set the title and labels\n",
    "ax.set_title('Representational Hypotheses', fontsize=18)\n",
    "ax.set_xlabel('Behavior', fontsize=16)\n",
    "ax.set_ylabel('P(Behavior)', fontsize=16)\n",
    "\n",
    "# Set the x-axis ticks and labels\n",
    "ax.set_yticks([])\n",
    "ax.set_xticks([0, 1])\n",
    "ax.set_xticklabels(['Connectionist', 'Symbolic'], fontsize=12)\n",
    "\n",
    "# Add a legend\n",
    "ax.legend(fontsize=12, loc='upper left')\n",
    "\n",
    "# Adjust the plot layout\n",
    "plt.tight_layout()\n",
    "\n",
    "# Display the plot\n",
    "plt.show()"
   ]
  },
  {
   "cell_type": "code",
   "execution_count": null,
   "id": "91a198ca",
   "metadata": {},
   "outputs": [],
   "source": []
  }
 ],
 "metadata": {
  "kernelspec": {
   "display_name": "blackboard2",
   "language": "python",
   "name": "blackboard2"
  },
  "language_info": {
   "codemirror_mode": {
    "name": "ipython",
    "version": 3
   },
   "file_extension": ".py",
   "mimetype": "text/x-python",
   "name": "python",
   "nbconvert_exporter": "python",
   "pygments_lexer": "ipython3",
   "version": "3.8.18"
  }
 },
 "nbformat": 4,
 "nbformat_minor": 5
}
